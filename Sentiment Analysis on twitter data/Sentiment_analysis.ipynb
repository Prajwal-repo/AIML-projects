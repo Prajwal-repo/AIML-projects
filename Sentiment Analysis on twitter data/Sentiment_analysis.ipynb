{
 "cells": [
  {
   "cell_type": "code",
   "execution_count": 122,
   "metadata": {},
   "outputs": [],
   "source": [
    "import pandas as pd\n",
    "import numpy as np\n",
    "import re\n",
    "import nltk\n",
    "import emoji\n",
    "import spacy\n",
    "from nltk.tokenize import word_tokenize\n",
    "from nltk.corpus import stopwords\n",
    "from nltk.stem import WordNetLemmatizer\n",
    "from tensorflow.keras.preprocessing.text import Tokenizer\n",
    "from tensorflow.keras.preprocessing.sequence import pad_sequences\n",
    "from tensorflow.keras.models import Sequential\n",
    "from tensorflow.keras.layers import Embedding, LSTM, Dense, Bidirectional, Dropout\n",
    "from sklearn.model_selection import train_test_split\n",
    "from tensorflow.keras.utils import to_categorical"
   ]
  },
  {
   "cell_type": "code",
   "execution_count": 28,
   "metadata": {},
   "outputs": [],
   "source": [
    "import tweepy\n",
    "\n",
    "BEARER_TOKEN = \"AAAAAAAAAAAAAAAAAAAAAM8j0AEAAAAA0U89kyhF1RpEJd1tFb3SaL800wo%3D047zPSpIojMHSZ32V5X6gKtLooptdoZ1dONUfnmM4sbggDjufB\"\n",
    "\n",
    "client = tweepy.Client(bearer_token=BEARER_TOKEN)"
   ]
  },
  {
   "cell_type": "code",
   "execution_count": 29,
   "metadata": {},
   "outputs": [],
   "source": [
    "keywords = [\"stock market\", \"finance\", \"economy\"]\n",
    "Query = \" OR \".join(keywords) + \" -is:retweet\"\n",
    "\n",
    "all_tweets = []\n",
    "\n",
    "\n",
    "response = client.search_recent_tweets(\n",
    "    query=Query,\n",
    "    max_results=20, \n",
    "    tweet_fields=[\"created_at\", \"author_id\"]\n",
    ")\n",
    "if response.data:\n",
    "    for tweet in response.data:\n",
    "        all_tweets.append({\n",
    "            \"text\": tweet.text, \n",
    "            \"created_at\": tweet.created_at\n",
    "        })"
   ]
  },
  {
   "cell_type": "code",
   "execution_count": 41,
   "metadata": {},
   "outputs": [
    {
     "name": "stdout",
     "output_type": "stream",
     "text": [
      "{'text': \"The future of sports finance is here Investors will soon be able to buy into their favorite teams' ownership stakes\", 'created_at': datetime.datetime(2025, 3, 19, 11, 7, 11, tzinfo=datetime.timezone.utc)}\n",
      "{'text': \"RT @YourAnonNews: As the stock market continues it's tumble there are a few MAGA who are voicing that they'd like a refund.\\nNo. Fuck that.…\", 'created_at': datetime.datetime(2025, 3, 19, 11, 7, 11, tzinfo=datetime.timezone.utc)}\n",
      "{'text': '@chauffeur243 Il finance seulement les journalistes et communicateurs pour sa visibilité \\n🤣🤣🤣🤣', 'created_at': datetime.datetime(2025, 3, 19, 11, 7, 11, tzinfo=datetime.timezone.utc)}\n",
      "{'text': 'RT @nirvana_io: The AI-Native Financial Paradigm Shift\\n\\nTraditional finance was designed for human decision-makers, but the future belongs…', 'created_at': datetime.datetime(2025, 3, 19, 11, 7, 11, tzinfo=datetime.timezone.utc)}\n",
      "{'text': 'Game-changer in the world of finance is the emergence of yield farming, where investors are rewarded for providing liquidity to lending protocols and earning i', 'created_at': datetime.datetime(2025, 3, 19, 11, 7, 11, tzinfo=datetime.timezone.utc)}\n",
      "{'text': 'RT @TheBonkKong: 🦍🦧🔥Launch 1 hour after pre-sale. \\n\\n🦍🦧👉Buy now: https://t.co/TqDFdc9MkH', 'created_at': datetime.datetime(2025, 3, 19, 11, 7, 11, tzinfo=datetime.timezone.utc)}\n",
      "{'text': '@Egmbsc Regarding #IntelligentFuture and the impact of smart protocols on the global economy, I foresee a shift towards more efficient resource allocation and dynamic pricing models.', 'created_at': datetime.datetime(2025, 3, 19, 11, 7, 11, tzinfo=datetime.timezone.utc)}\n",
      "{'text': 'Mozambique’s textile industry recorded slight growth in 2024, with production valued at $9.7M (672M MZN), according to official budget execution data.\\n #africa #mozambique #news #economy https://t.co/PoTV3qQZNz', 'created_at': datetime.datetime(2025, 3, 19, 11, 7, 10, tzinfo=datetime.timezone.utc)}\n",
      "{'text': 'RT @nirvana_io: The AI-Native Financial Paradigm Shift\\n\\nTraditional finance was designed for human decision-makers, but the future belongs…', 'created_at': datetime.datetime(2025, 3, 19, 11, 7, 8, tzinfo=datetime.timezone.utc)}\n",
      "{'text': 'RT @LauraLoomer: JUST IN:\\n\\n\\u2066@JDVance\\u2069 will serve as the next RNC Finance Chairman. This will be the first time in the history of the Republ…', 'created_at': datetime.datetime(2025, 3, 19, 11, 7, 8, tzinfo=datetime.timezone.utc)}\n",
      "{'text': \"Winning isn't just about luck, it's about calculated risk and strategic investing The future of finance is where numbers meet intuition\", 'created_at': datetime.datetime(2025, 3, 19, 11, 7, 8, tzinfo=datetime.timezone.utc)}\n",
      "{'text': 'RT @RealAndyLeeShow: So dude put millions in BAM stock options into a blind trust and now magically has no ability to monitor how BAM is do…', 'created_at': datetime.datetime(2025, 3, 19, 11, 7, 7, tzinfo=datetime.timezone.utc)}\n",
      "{'text': 'RT @SalvaMayarditPR: @binance South Sudan will launch national token 🇸🇸\\n\\nWe invite everyone to join us at this historic moment of digital f…', 'created_at': datetime.datetime(2025, 3, 19, 11, 7, 7, tzinfo=datetime.timezone.utc)}\n",
      "{'text': 'RT @nuicemedia: What did Prabowo do to the stock market? https://t.co/Vp4Mm5cHtS', 'created_at': datetime.datetime(2025, 3, 19, 11, 7, 7, tzinfo=datetime.timezone.utc)}\n",
      "{'text': 'RT @SushantSin: .@kaul_vivek demolishes a few myths and provides solid reasons for why fofeign investors are exiting the Indian stock marke…', 'created_at': datetime.datetime(2025, 3, 19, 11, 7, 7, tzinfo=datetime.timezone.utc)}\n",
      "{'text': 'RT @Ripple: Real-world asset tokenization is reshaping finance—making traditional assets more accessible and efficient. \\n\\nLearn how the XRP…', 'created_at': datetime.datetime(2025, 3, 19, 11, 7, 7, tzinfo=datetime.timezone.utc)}\n",
      "{'text': 'https://t.co/P67FBeZomA\\nmy @enilev🪔mom \\nThX 🌐#BOSCh #ecb #Pfizer #Chevron\\nMr @BetaMoroney sir\\n\\n#bigdata #Linkedin #News \\n#ML #Marketing \\n#uk #usa #eUrope #health \\n#france #CRYPTO #frenchTECh #healthTech #ai #web3 #5g #finance #GTC25  \\n#Tech #webinar\\n#digitalhealth #SOciaLmeDia', 'created_at': datetime.datetime(2025, 3, 19, 11, 7, 7, tzinfo=datetime.timezone.utc)}\n",
      "{'text': 'RT @Voltaire765: @DrJacobsRad I’ve been delving into Mark Carney’s tenure as the UN Special Envoy for Climate Action and Finance from 2020…', 'created_at': datetime.datetime(2025, 3, 19, 11, 7, 7, tzinfo=datetime.timezone.utc)}\n",
      "{'text': '@nirvana_io Finance without limits.', 'created_at': datetime.datetime(2025, 3, 19, 11, 7, 4, tzinfo=datetime.timezone.utc)}\n"
     ]
    }
   ],
   "source": [
    "for tweet in all_tweets:\n",
    "    print(tweet)"
   ]
  },
  {
   "cell_type": "code",
   "execution_count": 38,
   "metadata": {},
   "outputs": [],
   "source": [
    "tweets_list = all_tweets.copy()"
   ]
  },
  {
   "cell_type": "code",
   "execution_count": 69,
   "metadata": {},
   "outputs": [
    {
     "data": {
      "text/html": [
       "<div>\n",
       "<style scoped>\n",
       "    .dataframe tbody tr th:only-of-type {\n",
       "        vertical-align: middle;\n",
       "    }\n",
       "\n",
       "    .dataframe tbody tr th {\n",
       "        vertical-align: top;\n",
       "    }\n",
       "\n",
       "    .dataframe thead th {\n",
       "        text-align: right;\n",
       "    }\n",
       "</style>\n",
       "<table border=\"1\" class=\"dataframe\">\n",
       "  <thead>\n",
       "    <tr style=\"text-align: right;\">\n",
       "      <th></th>\n",
       "      <th>text</th>\n",
       "      <th>created_at</th>\n",
       "    </tr>\n",
       "  </thead>\n",
       "  <tbody>\n",
       "    <tr>\n",
       "      <th>0</th>\n",
       "      <td>The future of sports finance is here Investors...</td>\n",
       "      <td>2025-03-19 11:07:11+00:00</td>\n",
       "    </tr>\n",
       "    <tr>\n",
       "      <th>1</th>\n",
       "      <td>RT @YourAnonNews: As the stock market continue...</td>\n",
       "      <td>2025-03-19 11:07:11+00:00</td>\n",
       "    </tr>\n",
       "    <tr>\n",
       "      <th>2</th>\n",
       "      <td>@chauffeur243 Il finance seulement les journal...</td>\n",
       "      <td>2025-03-19 11:07:11+00:00</td>\n",
       "    </tr>\n",
       "    <tr>\n",
       "      <th>3</th>\n",
       "      <td>RT @nirvana_io: The AI-Native Financial Paradi...</td>\n",
       "      <td>2025-03-19 11:07:11+00:00</td>\n",
       "    </tr>\n",
       "    <tr>\n",
       "      <th>4</th>\n",
       "      <td>Game-changer in the world of finance is the em...</td>\n",
       "      <td>2025-03-19 11:07:11+00:00</td>\n",
       "    </tr>\n",
       "    <tr>\n",
       "      <th>5</th>\n",
       "      <td>RT @TheBonkKong: 🦍🦧🔥Launch 1 hour after pre-sa...</td>\n",
       "      <td>2025-03-19 11:07:11+00:00</td>\n",
       "    </tr>\n",
       "    <tr>\n",
       "      <th>6</th>\n",
       "      <td>@Egmbsc Regarding #IntelligentFuture and the i...</td>\n",
       "      <td>2025-03-19 11:07:11+00:00</td>\n",
       "    </tr>\n",
       "    <tr>\n",
       "      <th>7</th>\n",
       "      <td>Mozambique’s textile industry recorded slight ...</td>\n",
       "      <td>2025-03-19 11:07:10+00:00</td>\n",
       "    </tr>\n",
       "    <tr>\n",
       "      <th>8</th>\n",
       "      <td>RT @nirvana_io: The AI-Native Financial Paradi...</td>\n",
       "      <td>2025-03-19 11:07:08+00:00</td>\n",
       "    </tr>\n",
       "    <tr>\n",
       "      <th>9</th>\n",
       "      <td>RT @LauraLoomer: JUST IN:\\n\\n⁦@JDVance⁩ will s...</td>\n",
       "      <td>2025-03-19 11:07:08+00:00</td>\n",
       "    </tr>\n",
       "    <tr>\n",
       "      <th>10</th>\n",
       "      <td>Winning isn't just about luck, it's about calc...</td>\n",
       "      <td>2025-03-19 11:07:08+00:00</td>\n",
       "    </tr>\n",
       "    <tr>\n",
       "      <th>11</th>\n",
       "      <td>RT @RealAndyLeeShow: So dude put millions in B...</td>\n",
       "      <td>2025-03-19 11:07:07+00:00</td>\n",
       "    </tr>\n",
       "    <tr>\n",
       "      <th>12</th>\n",
       "      <td>RT @SalvaMayarditPR: @binance South Sudan will...</td>\n",
       "      <td>2025-03-19 11:07:07+00:00</td>\n",
       "    </tr>\n",
       "    <tr>\n",
       "      <th>13</th>\n",
       "      <td>RT @nuicemedia: What did Prabowo do to the sto...</td>\n",
       "      <td>2025-03-19 11:07:07+00:00</td>\n",
       "    </tr>\n",
       "    <tr>\n",
       "      <th>14</th>\n",
       "      <td>RT @SushantSin: .@kaul_vivek demolishes a few ...</td>\n",
       "      <td>2025-03-19 11:07:07+00:00</td>\n",
       "    </tr>\n",
       "    <tr>\n",
       "      <th>15</th>\n",
       "      <td>RT @Ripple: Real-world asset tokenization is r...</td>\n",
       "      <td>2025-03-19 11:07:07+00:00</td>\n",
       "    </tr>\n",
       "    <tr>\n",
       "      <th>16</th>\n",
       "      <td>https://t.co/P67FBeZomA\\nmy @enilev🪔mom \\nThX ...</td>\n",
       "      <td>2025-03-19 11:07:07+00:00</td>\n",
       "    </tr>\n",
       "    <tr>\n",
       "      <th>17</th>\n",
       "      <td>RT @Voltaire765: @DrJacobsRad I’ve been delvin...</td>\n",
       "      <td>2025-03-19 11:07:07+00:00</td>\n",
       "    </tr>\n",
       "    <tr>\n",
       "      <th>18</th>\n",
       "      <td>@nirvana_io Finance without limits.</td>\n",
       "      <td>2025-03-19 11:07:04+00:00</td>\n",
       "    </tr>\n",
       "  </tbody>\n",
       "</table>\n",
       "</div>"
      ],
      "text/plain": [
       "                                                 text  \\\n",
       "0   The future of sports finance is here Investors...   \n",
       "1   RT @YourAnonNews: As the stock market continue...   \n",
       "2   @chauffeur243 Il finance seulement les journal...   \n",
       "3   RT @nirvana_io: The AI-Native Financial Paradi...   \n",
       "4   Game-changer in the world of finance is the em...   \n",
       "5   RT @TheBonkKong: 🦍🦧🔥Launch 1 hour after pre-sa...   \n",
       "6   @Egmbsc Regarding #IntelligentFuture and the i...   \n",
       "7   Mozambique’s textile industry recorded slight ...   \n",
       "8   RT @nirvana_io: The AI-Native Financial Paradi...   \n",
       "9   RT @LauraLoomer: JUST IN:\\n\\n⁦@JDVance⁩ will s...   \n",
       "10  Winning isn't just about luck, it's about calc...   \n",
       "11  RT @RealAndyLeeShow: So dude put millions in B...   \n",
       "12  RT @SalvaMayarditPR: @binance South Sudan will...   \n",
       "13  RT @nuicemedia: What did Prabowo do to the sto...   \n",
       "14  RT @SushantSin: .@kaul_vivek demolishes a few ...   \n",
       "15  RT @Ripple: Real-world asset tokenization is r...   \n",
       "16  https://t.co/P67FBeZomA\\nmy @enilev🪔mom \\nThX ...   \n",
       "17  RT @Voltaire765: @DrJacobsRad I’ve been delvin...   \n",
       "18                @nirvana_io Finance without limits.   \n",
       "\n",
       "                  created_at  \n",
       "0  2025-03-19 11:07:11+00:00  \n",
       "1  2025-03-19 11:07:11+00:00  \n",
       "2  2025-03-19 11:07:11+00:00  \n",
       "3  2025-03-19 11:07:11+00:00  \n",
       "4  2025-03-19 11:07:11+00:00  \n",
       "5  2025-03-19 11:07:11+00:00  \n",
       "6  2025-03-19 11:07:11+00:00  \n",
       "7  2025-03-19 11:07:10+00:00  \n",
       "8  2025-03-19 11:07:08+00:00  \n",
       "9  2025-03-19 11:07:08+00:00  \n",
       "10 2025-03-19 11:07:08+00:00  \n",
       "11 2025-03-19 11:07:07+00:00  \n",
       "12 2025-03-19 11:07:07+00:00  \n",
       "13 2025-03-19 11:07:07+00:00  \n",
       "14 2025-03-19 11:07:07+00:00  \n",
       "15 2025-03-19 11:07:07+00:00  \n",
       "16 2025-03-19 11:07:07+00:00  \n",
       "17 2025-03-19 11:07:07+00:00  \n",
       "18 2025-03-19 11:07:04+00:00  "
      ]
     },
     "execution_count": 69,
     "metadata": {},
     "output_type": "execute_result"
    }
   ],
   "source": [
    "pd.DataFrame(all_tweets)"
   ]
  },
  {
   "cell_type": "code",
   "execution_count": 68,
   "metadata": {},
   "outputs": [],
   "source": [
    "nlp = spacy.load(\"en_core_web_sm\")\n",
    "\n",
    "def preprocess_tweets(tweet):\n",
    "    tweet = emoji.replace_emoji(tweet,replace=\"\")\n",
    "    tweet = re.sub(r\"http\\S+|www\\S+|https\\S+\", '', tweet, flags=re.MULTILINE) \n",
    "    tweet = re.sub(r'\\@\\w+|\\#', '', tweet)\n",
    "    tweet = re.sub(r'[^\\w\\s]', '', tweet)\n",
    "    tweet = tweet.lower()\n",
    "    doc = nlp(tweet)\n",
    "    words = [token.lemma_ for token in doc if not token.is_stop and token.is_alpha]\n",
    "\n",
    "    return \" \".join(words)\n",
    "\n",
    "cleaned_tweets = [preprocess_tweets(tweet['text']) for tweet in all_tweets]"
   ]
  },
  {
   "cell_type": "code",
   "execution_count": 123,
   "metadata": {},
   "outputs": [
    {
     "data": {
      "text/html": [
       "<div>\n",
       "<style scoped>\n",
       "    .dataframe tbody tr th:only-of-type {\n",
       "        vertical-align: middle;\n",
       "    }\n",
       "\n",
       "    .dataframe tbody tr th {\n",
       "        vertical-align: top;\n",
       "    }\n",
       "\n",
       "    .dataframe thead th {\n",
       "        text-align: right;\n",
       "    }\n",
       "</style>\n",
       "<table border=\"1\" class=\"dataframe\">\n",
       "  <thead>\n",
       "    <tr style=\"text-align: right;\">\n",
       "      <th></th>\n",
       "      <th>0</th>\n",
       "    </tr>\n",
       "  </thead>\n",
       "  <tbody>\n",
       "    <tr>\n",
       "      <th>0</th>\n",
       "      <td>future sport finance investor soon able buy fa...</td>\n",
       "    </tr>\n",
       "    <tr>\n",
       "      <th>1</th>\n",
       "      <td>rt stock market continue tumble maga voice d l...</td>\n",
       "    </tr>\n",
       "    <tr>\n",
       "      <th>2</th>\n",
       "      <td>il finance seulement les journaliste et commun...</td>\n",
       "    </tr>\n",
       "    <tr>\n",
       "      <th>3</th>\n",
       "      <td>rt ainative financial paradigm shift tradition...</td>\n",
       "    </tr>\n",
       "    <tr>\n",
       "      <th>4</th>\n",
       "      <td>gamechanger world finance emergence yield farm...</td>\n",
       "    </tr>\n",
       "    <tr>\n",
       "      <th>5</th>\n",
       "      <td>rt launch hour presale buy</td>\n",
       "    </tr>\n",
       "    <tr>\n",
       "      <th>6</th>\n",
       "      <td>intelligentfuture impact smart protocol global...</td>\n",
       "    </tr>\n",
       "    <tr>\n",
       "      <th>7</th>\n",
       "      <td>mozambiques textile industry record slight gro...</td>\n",
       "    </tr>\n",
       "    <tr>\n",
       "      <th>8</th>\n",
       "      <td>rt ainative financial paradigm shift tradition...</td>\n",
       "    </tr>\n",
       "    <tr>\n",
       "      <th>9</th>\n",
       "      <td>rt serve rnc finance chairman time history republ</td>\n",
       "    </tr>\n",
       "    <tr>\n",
       "      <th>10</th>\n",
       "      <td>win not luck calculated risk strategic invest ...</td>\n",
       "    </tr>\n",
       "    <tr>\n",
       "      <th>11</th>\n",
       "      <td>rt dude million bam stock option blind trust m...</td>\n",
       "    </tr>\n",
       "    <tr>\n",
       "      <th>12</th>\n",
       "      <td>rt south sudan launch national token invite jo...</td>\n",
       "    </tr>\n",
       "    <tr>\n",
       "      <th>13</th>\n",
       "      <td>rt prabowo stock market</td>\n",
       "    </tr>\n",
       "    <tr>\n",
       "      <th>14</th>\n",
       "      <td>rt demolish myth provide solid reason fofeign ...</td>\n",
       "    </tr>\n",
       "    <tr>\n",
       "      <th>15</th>\n",
       "      <td>rt realworld asset tokenization reshape financ...</td>\n",
       "    </tr>\n",
       "    <tr>\n",
       "      <th>16</th>\n",
       "      <td>thx bosch ecb pfizer chevron mr sir bigdata li...</td>\n",
       "    </tr>\n",
       "    <tr>\n",
       "      <th>17</th>\n",
       "      <td>rt ve delve mark carney tenure un special envo...</td>\n",
       "    </tr>\n",
       "    <tr>\n",
       "      <th>18</th>\n",
       "      <td>finance limit</td>\n",
       "    </tr>\n",
       "  </tbody>\n",
       "</table>\n",
       "</div>"
      ],
      "text/plain": [
       "                                                    0\n",
       "0   future sport finance investor soon able buy fa...\n",
       "1   rt stock market continue tumble maga voice d l...\n",
       "2   il finance seulement les journaliste et commun...\n",
       "3   rt ainative financial paradigm shift tradition...\n",
       "4   gamechanger world finance emergence yield farm...\n",
       "5                          rt launch hour presale buy\n",
       "6   intelligentfuture impact smart protocol global...\n",
       "7   mozambiques textile industry record slight gro...\n",
       "8   rt ainative financial paradigm shift tradition...\n",
       "9   rt serve rnc finance chairman time history republ\n",
       "10  win not luck calculated risk strategic invest ...\n",
       "11  rt dude million bam stock option blind trust m...\n",
       "12  rt south sudan launch national token invite jo...\n",
       "13                            rt prabowo stock market\n",
       "14  rt demolish myth provide solid reason fofeign ...\n",
       "15  rt realworld asset tokenization reshape financ...\n",
       "16  thx bosch ecb pfizer chevron mr sir bigdata li...\n",
       "17  rt ve delve mark carney tenure un special envo...\n",
       "18                                      finance limit"
      ]
     },
     "execution_count": 123,
     "metadata": {},
     "output_type": "execute_result"
    }
   ],
   "source": [
    "pd.DataFrame(cleaned_tweets)"
   ]
  },
  {
   "cell_type": "code",
   "execution_count": 124,
   "metadata": {},
   "outputs": [],
   "source": [
    "tokenizer = Tokenizer(num_words=10000, oov_token=\"<OOV>\")\n",
    "tokenizer.fit_on_texts(cleaned_tweets)\n",
    "word_index = tokenizer.word_index\n",
    "\n",
    "sequences = tokenizer.texts_to_sequences(cleaned_tweets)\n",
    "padded_sequences = pad_sequences(sequences, maxlen=100, padding='post', truncating='post')"
   ]
  },
  {
   "cell_type": "code",
   "execution_count": 126,
   "metadata": {},
   "outputs": [
    {
     "name": "stdout",
     "output_type": "stream",
     "text": [
      "['future sport finance investor soon able buy favorite team ownership stake', 'rt stock market continue tumble maga voice d like refund fuck', 'il finance seulement les journaliste et communicateur pour sa visibilité', 'rt ainative financial paradigm shift traditional finance design human decisionmaker future belong', 'gamechanger world finance emergence yield farming investor reward provide liquidity lend protocol earn', 'rt launch hour presale buy', 'intelligentfuture impact smart protocol global economy foresee shift efficient resource allocation dynamic pricing model', 'mozambiques textile industry record slight growth production value m m mzn accord official budget execution data africa mozambique news economy', 'rt ainative financial paradigm shift traditional finance design human decisionmaker future belong', 'rt serve rnc finance chairman time history republ', 'win not luck calculated risk strategic invest future finance number meet intuition', 'rt dude million bam stock option blind trust magically ability monitor bam', 'rt south sudan launch national token invite join historic moment digital f', 'rt prabowo stock market', 'rt demolish myth provide solid reason fofeign investor exit indian stock marke', 'rt realworld asset tokenization reshape financemake traditional asset accessible efficient learn xrp', 'thx bosch ecb pfizer chevron mr sir bigdata linkedin news ml market uk usa europe health france crypto frenchtech healthtech ai g finance tech webinar digitalhealth socialmedia', 'rt ve delve mark carney tenure un special envoy climate action finance', 'finance limit']\n"
     ]
    }
   ],
   "source": [
    "print(cleaned_tweets)"
   ]
  },
  {
   "cell_type": "code",
   "execution_count": 127,
   "metadata": {},
   "outputs": [],
   "source": [
    "embedding_index = {}\n",
    "with open(\"glove.6B.100d.txt\", encoding=\"utf-8\") as f:\n",
    "    for line in f:\n",
    "        values = line.split()\n",
    "        word = values[0]\n",
    "        embedding_index[word] = np.array(values[1:], dtype=np.float32)\n",
    "\n",
    "embedding_matrix = np.zeros((len(word_index) + 1, 100))\n",
    "for word, i in word_index.items():\n",
    "    embedding_vector = embedding_index.get(word)\n",
    "    if embedding_vector is not None:\n",
    "        embedding_matrix[i] = embedding_vector"
   ]
  },
  {
   "cell_type": "code",
   "execution_count": 128,
   "metadata": {},
   "outputs": [
    {
     "name": "stdout",
     "output_type": "stream",
     "text": [
      "(173, 100)\n"
     ]
    }
   ],
   "source": [
    "print(embedding_matrix.shape)  # Should be (len(word_index) + 1, 100)\n"
   ]
  },
  {
   "cell_type": "code",
   "execution_count": 129,
   "metadata": {},
   "outputs": [
    {
     "name": "stderr",
     "output_type": "stream",
     "text": [
      "C:\\Users\\Prajwal\\AppData\\Local\\Packages\\PythonSoftwareFoundation.Python.3.9_qbz5n2kfra8p0\\LocalCache\\local-packages\\Python39\\site-packages\\keras\\src\\layers\\core\\embedding.py:90: UserWarning: Argument `input_length` is deprecated. Just remove it.\n",
      "  warnings.warn(\n"
     ]
    }
   ],
   "source": [
    "model = Sequential([\n",
    "    Embedding(input_dim=len(word_index) + 1, output_dim=100, weights=[embedding_matrix], input_length=100, trainable=True),\n",
    "    Bidirectional(LSTM(128, return_sequences=True)),  \n",
    "    Dropout(0.3),\n",
    "    Bidirectional(LSTM(64)),  \n",
    "    Dropout(0.3),\n",
    "    Dense(64, activation=\"relu\"),\n",
    "    Dense(3, activation=\"softmax\")  \n",
    "])\n",
    "\n",
    "model.compile(loss=\"categorical_crossentropy\", optimizer=\"adam\", metrics=[\"accuracy\"])"
   ]
  },
  {
   "cell_type": "code",
   "execution_count": 130,
   "metadata": {},
   "outputs": [
    {
     "data": {
      "text/html": [
       "<pre style=\"white-space:pre;overflow-x:auto;line-height:normal;font-family:Menlo,'DejaVu Sans Mono',consolas,'Courier New',monospace\"><span style=\"font-weight: bold\">Model: \"sequential\"</span>\n",
       "</pre>\n"
      ],
      "text/plain": [
       "\u001b[1mModel: \"sequential\"\u001b[0m\n"
      ]
     },
     "metadata": {},
     "output_type": "display_data"
    },
    {
     "data": {
      "text/html": [
       "<pre style=\"white-space:pre;overflow-x:auto;line-height:normal;font-family:Menlo,'DejaVu Sans Mono',consolas,'Courier New',monospace\">┏━━━━━━━━━━━━━━━━━━━━━━━━━━━━━━━━━┳━━━━━━━━━━━━━━━━━━━━━━━━┳━━━━━━━━━━━━━━━┓\n",
       "┃<span style=\"font-weight: bold\"> Layer (type)                    </span>┃<span style=\"font-weight: bold\"> Output Shape           </span>┃<span style=\"font-weight: bold\">       Param # </span>┃\n",
       "┡━━━━━━━━━━━━━━━━━━━━━━━━━━━━━━━━━╇━━━━━━━━━━━━━━━━━━━━━━━━╇━━━━━━━━━━━━━━━┩\n",
       "│ embedding (<span style=\"color: #0087ff; text-decoration-color: #0087ff\">Embedding</span>)           │ (<span style=\"color: #00d7ff; text-decoration-color: #00d7ff\">None</span>, <span style=\"color: #00af00; text-decoration-color: #00af00\">100</span>, <span style=\"color: #00af00; text-decoration-color: #00af00\">100</span>)       │        <span style=\"color: #00af00; text-decoration-color: #00af00\">17,300</span> │\n",
       "├─────────────────────────────────┼────────────────────────┼───────────────┤\n",
       "│ bidirectional (<span style=\"color: #0087ff; text-decoration-color: #0087ff\">Bidirectional</span>)   │ (<span style=\"color: #00d7ff; text-decoration-color: #00d7ff\">None</span>, <span style=\"color: #00af00; text-decoration-color: #00af00\">100</span>, <span style=\"color: #00af00; text-decoration-color: #00af00\">256</span>)       │       <span style=\"color: #00af00; text-decoration-color: #00af00\">234,496</span> │\n",
       "├─────────────────────────────────┼────────────────────────┼───────────────┤\n",
       "│ dropout (<span style=\"color: #0087ff; text-decoration-color: #0087ff\">Dropout</span>)               │ (<span style=\"color: #00d7ff; text-decoration-color: #00d7ff\">None</span>, <span style=\"color: #00af00; text-decoration-color: #00af00\">100</span>, <span style=\"color: #00af00; text-decoration-color: #00af00\">256</span>)       │             <span style=\"color: #00af00; text-decoration-color: #00af00\">0</span> │\n",
       "├─────────────────────────────────┼────────────────────────┼───────────────┤\n",
       "│ bidirectional_1 (<span style=\"color: #0087ff; text-decoration-color: #0087ff\">Bidirectional</span>) │ (<span style=\"color: #00d7ff; text-decoration-color: #00d7ff\">None</span>, <span style=\"color: #00af00; text-decoration-color: #00af00\">128</span>)            │       <span style=\"color: #00af00; text-decoration-color: #00af00\">164,352</span> │\n",
       "├─────────────────────────────────┼────────────────────────┼───────────────┤\n",
       "│ dropout_1 (<span style=\"color: #0087ff; text-decoration-color: #0087ff\">Dropout</span>)             │ (<span style=\"color: #00d7ff; text-decoration-color: #00d7ff\">None</span>, <span style=\"color: #00af00; text-decoration-color: #00af00\">128</span>)            │             <span style=\"color: #00af00; text-decoration-color: #00af00\">0</span> │\n",
       "├─────────────────────────────────┼────────────────────────┼───────────────┤\n",
       "│ dense (<span style=\"color: #0087ff; text-decoration-color: #0087ff\">Dense</span>)                   │ (<span style=\"color: #00d7ff; text-decoration-color: #00d7ff\">None</span>, <span style=\"color: #00af00; text-decoration-color: #00af00\">64</span>)             │         <span style=\"color: #00af00; text-decoration-color: #00af00\">8,256</span> │\n",
       "├─────────────────────────────────┼────────────────────────┼───────────────┤\n",
       "│ dense_1 (<span style=\"color: #0087ff; text-decoration-color: #0087ff\">Dense</span>)                 │ (<span style=\"color: #00d7ff; text-decoration-color: #00d7ff\">None</span>, <span style=\"color: #00af00; text-decoration-color: #00af00\">3</span>)              │           <span style=\"color: #00af00; text-decoration-color: #00af00\">195</span> │\n",
       "└─────────────────────────────────┴────────────────────────┴───────────────┘\n",
       "</pre>\n"
      ],
      "text/plain": [
       "┏━━━━━━━━━━━━━━━━━━━━━━━━━━━━━━━━━┳━━━━━━━━━━━━━━━━━━━━━━━━┳━━━━━━━━━━━━━━━┓\n",
       "┃\u001b[1m \u001b[0m\u001b[1mLayer (type)                   \u001b[0m\u001b[1m \u001b[0m┃\u001b[1m \u001b[0m\u001b[1mOutput Shape          \u001b[0m\u001b[1m \u001b[0m┃\u001b[1m \u001b[0m\u001b[1m      Param #\u001b[0m\u001b[1m \u001b[0m┃\n",
       "┡━━━━━━━━━━━━━━━━━━━━━━━━━━━━━━━━━╇━━━━━━━━━━━━━━━━━━━━━━━━╇━━━━━━━━━━━━━━━┩\n",
       "│ embedding (\u001b[38;5;33mEmbedding\u001b[0m)           │ (\u001b[38;5;45mNone\u001b[0m, \u001b[38;5;34m100\u001b[0m, \u001b[38;5;34m100\u001b[0m)       │        \u001b[38;5;34m17,300\u001b[0m │\n",
       "├─────────────────────────────────┼────────────────────────┼───────────────┤\n",
       "│ bidirectional (\u001b[38;5;33mBidirectional\u001b[0m)   │ (\u001b[38;5;45mNone\u001b[0m, \u001b[38;5;34m100\u001b[0m, \u001b[38;5;34m256\u001b[0m)       │       \u001b[38;5;34m234,496\u001b[0m │\n",
       "├─────────────────────────────────┼────────────────────────┼───────────────┤\n",
       "│ dropout (\u001b[38;5;33mDropout\u001b[0m)               │ (\u001b[38;5;45mNone\u001b[0m, \u001b[38;5;34m100\u001b[0m, \u001b[38;5;34m256\u001b[0m)       │             \u001b[38;5;34m0\u001b[0m │\n",
       "├─────────────────────────────────┼────────────────────────┼───────────────┤\n",
       "│ bidirectional_1 (\u001b[38;5;33mBidirectional\u001b[0m) │ (\u001b[38;5;45mNone\u001b[0m, \u001b[38;5;34m128\u001b[0m)            │       \u001b[38;5;34m164,352\u001b[0m │\n",
       "├─────────────────────────────────┼────────────────────────┼───────────────┤\n",
       "│ dropout_1 (\u001b[38;5;33mDropout\u001b[0m)             │ (\u001b[38;5;45mNone\u001b[0m, \u001b[38;5;34m128\u001b[0m)            │             \u001b[38;5;34m0\u001b[0m │\n",
       "├─────────────────────────────────┼────────────────────────┼───────────────┤\n",
       "│ dense (\u001b[38;5;33mDense\u001b[0m)                   │ (\u001b[38;5;45mNone\u001b[0m, \u001b[38;5;34m64\u001b[0m)             │         \u001b[38;5;34m8,256\u001b[0m │\n",
       "├─────────────────────────────────┼────────────────────────┼───────────────┤\n",
       "│ dense_1 (\u001b[38;5;33mDense\u001b[0m)                 │ (\u001b[38;5;45mNone\u001b[0m, \u001b[38;5;34m3\u001b[0m)              │           \u001b[38;5;34m195\u001b[0m │\n",
       "└─────────────────────────────────┴────────────────────────┴───────────────┘\n"
      ]
     },
     "metadata": {},
     "output_type": "display_data"
    },
    {
     "data": {
      "text/html": [
       "<pre style=\"white-space:pre;overflow-x:auto;line-height:normal;font-family:Menlo,'DejaVu Sans Mono',consolas,'Courier New',monospace\"><span style=\"font-weight: bold\"> Total params: </span><span style=\"color: #00af00; text-decoration-color: #00af00\">424,599</span> (1.62 MB)\n",
       "</pre>\n"
      ],
      "text/plain": [
       "\u001b[1m Total params: \u001b[0m\u001b[38;5;34m424,599\u001b[0m (1.62 MB)\n"
      ]
     },
     "metadata": {},
     "output_type": "display_data"
    },
    {
     "data": {
      "text/html": [
       "<pre style=\"white-space:pre;overflow-x:auto;line-height:normal;font-family:Menlo,'DejaVu Sans Mono',consolas,'Courier New',monospace\"><span style=\"font-weight: bold\"> Trainable params: </span><span style=\"color: #00af00; text-decoration-color: #00af00\">424,599</span> (1.62 MB)\n",
       "</pre>\n"
      ],
      "text/plain": [
       "\u001b[1m Trainable params: \u001b[0m\u001b[38;5;34m424,599\u001b[0m (1.62 MB)\n"
      ]
     },
     "metadata": {},
     "output_type": "display_data"
    },
    {
     "data": {
      "text/html": [
       "<pre style=\"white-space:pre;overflow-x:auto;line-height:normal;font-family:Menlo,'DejaVu Sans Mono',consolas,'Courier New',monospace\"><span style=\"font-weight: bold\"> Non-trainable params: </span><span style=\"color: #00af00; text-decoration-color: #00af00\">0</span> (0.00 B)\n",
       "</pre>\n"
      ],
      "text/plain": [
       "\u001b[1m Non-trainable params: \u001b[0m\u001b[38;5;34m0\u001b[0m (0.00 B)\n"
      ]
     },
     "metadata": {},
     "output_type": "display_data"
    }
   ],
   "source": [
    "model.build(input_shape=(None, 100))\n",
    "model.summary()"
   ]
  },
  {
   "cell_type": "code",
   "execution_count": 131,
   "metadata": {},
   "outputs": [],
   "source": [
    "negative_news = [\"loss\", \"crash\", \"decline\", \"drop\", \"sell-off\", \"resigns\", \"fraud\", \"lawsuit\", \"regulatory probe\"]\n",
    "positive_news = [\"profit\", \"growth\", \"record high\", \"buy\", \"strong earnings\", \"acquisition\", \"surge\", \"rally\"]\n",
    "neutral_news = [\"mixed market\", \"announcement\", \"economic data\", \"unchanged\", \"expected results\"]\n",
    "speculative_news = [\"rumor\", \"speculation\", \"potential\", \"unconfirmed\", \"analyst predicts\", \"expected to\"]\n",
    "\n",
    "labels = [\n",
    "    0 if any(word in tweet.lower() for word in negative_news) else \n",
    "    1 if any(word in tweet.lower() for word in positive_news) else \n",
    "    2 if any(word in tweet.lower() for word in neutral_news) else \n",
    "    2 \n",
    "    for tweet in cleaned_tweets\n",
    "]  \n",
    "labels = to_categorical(labels, num_classes=3)\n",
    "\n",
    "X_train, X_test, y_train, y_test = train_test_split(padded_sequences, labels, test_size=0.2, random_state=42)\n"
   ]
  },
  {
   "cell_type": "code",
   "execution_count": 132,
   "metadata": {},
   "outputs": [
    {
     "data": {
      "text/plain": [
       "(19, 100)"
      ]
     },
     "execution_count": 132,
     "metadata": {},
     "output_type": "execute_result"
    }
   ],
   "source": [
    "padded_sequences.shape"
   ]
  },
  {
   "cell_type": "code",
   "execution_count": 133,
   "metadata": {},
   "outputs": [
    {
     "name": "stdout",
     "output_type": "stream",
     "text": [
      "(15, 100) (15, 3)\n",
      "(4, 100) (4, 3)\n"
     ]
    }
   ],
   "source": [
    "print(X_train.shape,y_train.shape)\n",
    "print(X_test.shape,y_test.shape)"
   ]
  },
  {
   "cell_type": "code",
   "execution_count": 134,
   "metadata": {},
   "outputs": [],
   "source": [
    "from tensorflow.keras import backend as K\n",
    "K.clear_session()"
   ]
  },
  {
   "cell_type": "code",
   "execution_count": 135,
   "metadata": {},
   "outputs": [
    {
     "name": "stdout",
     "output_type": "stream",
     "text": [
      "Epoch 1/10\n",
      "\u001b[1m1/1\u001b[0m \u001b[32m━━━━━━━━━━━━━━━━━━━━\u001b[0m\u001b[37m\u001b[0m \u001b[1m6s\u001b[0m 6s/step - accuracy: 0.0667 - loss: 1.1311 - val_accuracy: 0.5000 - val_loss: 1.0392\n",
      "Epoch 2/10\n",
      "\u001b[1m1/1\u001b[0m \u001b[32m━━━━━━━━━━━━━━━━━━━━\u001b[0m\u001b[37m\u001b[0m \u001b[1m0s\u001b[0m 261ms/step - accuracy: 0.8667 - loss: 0.9896 - val_accuracy: 0.5000 - val_loss: 1.0057\n",
      "Epoch 3/10\n",
      "\u001b[1m1/1\u001b[0m \u001b[32m━━━━━━━━━━━━━━━━━━━━\u001b[0m\u001b[37m\u001b[0m \u001b[1m0s\u001b[0m 171ms/step - accuracy: 0.9333 - loss: 0.8601 - val_accuracy: 0.5000 - val_loss: 0.9861\n",
      "Epoch 4/10\n",
      "\u001b[1m1/1\u001b[0m \u001b[32m━━━━━━━━━━━━━━━━━━━━\u001b[0m\u001b[37m\u001b[0m \u001b[1m0s\u001b[0m 176ms/step - accuracy: 0.9333 - loss: 0.7162 - val_accuracy: 0.5000 - val_loss: 1.0139\n",
      "Epoch 5/10\n",
      "\u001b[1m1/1\u001b[0m \u001b[32m━━━━━━━━━━━━━━━━━━━━\u001b[0m\u001b[37m\u001b[0m \u001b[1m0s\u001b[0m 173ms/step - accuracy: 0.9333 - loss: 0.5211 - val_accuracy: 0.5000 - val_loss: 1.1041\n",
      "Epoch 6/10\n",
      "\u001b[1m1/1\u001b[0m \u001b[32m━━━━━━━━━━━━━━━━━━━━\u001b[0m\u001b[37m\u001b[0m \u001b[1m0s\u001b[0m 223ms/step - accuracy: 0.9333 - loss: 0.3690 - val_accuracy: 0.5000 - val_loss: 1.3017\n",
      "Epoch 7/10\n",
      "\u001b[1m1/1\u001b[0m \u001b[32m━━━━━━━━━━━━━━━━━━━━\u001b[0m\u001b[37m\u001b[0m \u001b[1m0s\u001b[0m 253ms/step - accuracy: 0.9333 - loss: 0.3279 - val_accuracy: 0.5000 - val_loss: 1.6213\n",
      "Epoch 8/10\n",
      "\u001b[1m1/1\u001b[0m \u001b[32m━━━━━━━━━━━━━━━━━━━━\u001b[0m\u001b[37m\u001b[0m \u001b[1m0s\u001b[0m 222ms/step - accuracy: 0.9333 - loss: 0.2887 - val_accuracy: 0.5000 - val_loss: 1.9547\n",
      "Epoch 9/10\n",
      "\u001b[1m1/1\u001b[0m \u001b[32m━━━━━━━━━━━━━━━━━━━━\u001b[0m\u001b[37m\u001b[0m \u001b[1m0s\u001b[0m 194ms/step - accuracy: 0.9333 - loss: 0.2860 - val_accuracy: 0.5000 - val_loss: 2.1813\n",
      "Epoch 10/10\n",
      "\u001b[1m1/1\u001b[0m \u001b[32m━━━━━━━━━━━━━━━━━━━━\u001b[0m\u001b[37m\u001b[0m \u001b[1m0s\u001b[0m 181ms/step - accuracy: 0.9333 - loss: 0.3139 - val_accuracy: 0.5000 - val_loss: 2.2580\n"
     ]
    },
    {
     "data": {
      "text/plain": [
       "<keras.src.callbacks.history.History at 0x25396255520>"
      ]
     },
     "execution_count": 135,
     "metadata": {},
     "output_type": "execute_result"
    }
   ],
   "source": [
    "model.fit(X_train, y_train, validation_data=(X_test, y_test), epochs=10, batch_size=32)"
   ]
  },
  {
   "cell_type": "code",
   "execution_count": 136,
   "metadata": {},
   "outputs": [
    {
     "name": "stderr",
     "output_type": "stream",
     "text": [
      "WARNING:absl:You are saving your model as an HDF5 file via `model.save()` or `keras.saving.save_model(model)`. This file format is considered legacy. We recommend using instead the native Keras format, e.g. `model.save('my_model.keras')` or `keras.saving.save_model(model, 'my_model.keras')`. \n"
     ]
    }
   ],
   "source": [
    "model.save(\"twitter_sentiment_model.h5\")"
   ]
  },
  {
   "cell_type": "code",
   "execution_count": 139,
   "metadata": {},
   "outputs": [
    {
     "name": "stdout",
     "output_type": "stream",
     "text": [
      "\u001b[1m1/1\u001b[0m \u001b[32m━━━━━━━━━━━━━━━━━━━━\u001b[0m\u001b[37m\u001b[0m \u001b[1m0s\u001b[0m 130ms/step\n"
     ]
    }
   ],
   "source": [
    "prediction = model.predict(padded_sequences)"
   ]
  },
  {
   "cell_type": "code",
   "execution_count": 140,
   "metadata": {},
   "outputs": [
    {
     "data": {
      "text/plain": [
       "(19, 3)"
      ]
     },
     "execution_count": 140,
     "metadata": {},
     "output_type": "execute_result"
    }
   ],
   "source": [
    "prediction.shape"
   ]
  },
  {
   "cell_type": "code",
   "execution_count": 142,
   "metadata": {},
   "outputs": [
    {
     "name": "stdout",
     "output_type": "stream",
     "text": [
      "['neutral_news', 'neutral_news', 'neutral_news', 'neutral_news', 'neutral_news', 'neutral_news', 'neutral_news', 'neutral_news', 'neutral_news', 'neutral_news', 'neutral_news', 'neutral_news', 'neutral_news', 'neutral_news', 'neutral_news', 'neutral_news', 'neutral_news', 'neutral_news', 'neutral_news']\n"
     ]
    }
   ],
   "source": [
    "labels = [\"negative_news\",\"positive_news\",\"neutral_news\"]\n",
    "\n",
    "predicted_indices=np.argmax(prediction,axis=1)\n",
    "\n",
    "sentiments = [labels[i] for i in predicted_indices]\n",
    "print(sentiments)"
   ]
  },
  {
   "cell_type": "code",
   "execution_count": null,
   "metadata": {},
   "outputs": [],
   "source": []
  }
 ],
 "metadata": {
  "kernelspec": {
   "display_name": "Python 3",
   "language": "python",
   "name": "python3"
  },
  "language_info": {
   "codemirror_mode": {
    "name": "ipython",
    "version": 3
   },
   "file_extension": ".py",
   "mimetype": "text/x-python",
   "name": "python",
   "nbconvert_exporter": "python",
   "pygments_lexer": "ipython3",
   "version": "3.9.13"
  }
 },
 "nbformat": 4,
 "nbformat_minor": 2
}
